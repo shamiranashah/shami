{
 "cells": [
  {
   "cell_type": "code",
   "execution_count": 1,
   "id": "c91bdf51",
   "metadata": {},
   "outputs": [],
   "source": [
    "import numpy as np"
   ]
  },
  {
   "cell_type": "code",
   "execution_count": 2,
   "id": "7d26e126",
   "metadata": {},
   "outputs": [],
   "source": [
    "file=np.loadtxt(\"cric.tsv\",skiprows=1)"
   ]
  },
  {
   "cell_type": "code",
   "execution_count": 3,
   "id": "ca1f700c",
   "metadata": {},
   "outputs": [
    {
     "data": {
      "text/plain": [
       "array([[  0., 100.,  78., 342.],\n",
       "       [  1.,  11.,  62., 191.],\n",
       "       [  2.,   8.,  85., 252.],\n",
       "       [  3.,  71.,  24., 307.],\n",
       "       [  4., 104.,  17., 229.],\n",
       "       [  5.,  18., 104., 246.],\n",
       "       [  6.,   8.,  76., 226.],\n",
       "       [  7.,  86.,  74., 288.],\n",
       "       [  8.,  12.,  60., 216.],\n",
       "       [  9.,  25.,  90., 304.],\n",
       "       [ 10.,  56.,   6., 272.],\n",
       "       [ 11.,  88.,  69., 302.],\n",
       "       [ 12., 147.,  65., 312.],\n",
       "       [ 13., 121., 146., 370.],\n",
       "       [ 15.,  99., 110., 362.]])"
      ]
     },
     "execution_count": 3,
     "metadata": {},
     "output_type": "execute_result"
    }
   ],
   "source": [
    "file"
   ]
  },
  {
   "cell_type": "code",
   "execution_count": 4,
   "id": "e5dc620c",
   "metadata": {},
   "outputs": [],
   "source": [
    "sachin_avg_score=file[:,1].mean()"
   ]
  },
  {
   "cell_type": "code",
   "execution_count": 5,
   "id": "b0d7806c",
   "metadata": {},
   "outputs": [
    {
     "data": {
      "text/plain": [
       "63.6"
      ]
     },
     "execution_count": 5,
     "metadata": {},
     "output_type": "execute_result"
    }
   ],
   "source": [
    "sachin_avg_score"
   ]
  },
  {
   "cell_type": "code",
   "execution_count": 6,
   "id": "0fef54c9",
   "metadata": {},
   "outputs": [],
   "source": [
    "dravid_avg_scr = file[:,2].mean()"
   ]
  },
  {
   "cell_type": "code",
   "execution_count": 7,
   "id": "56a09c62",
   "metadata": {},
   "outputs": [
    {
     "data": {
      "text/plain": [
       "71.06666666666666"
      ]
     },
     "execution_count": 7,
     "metadata": {},
     "output_type": "execute_result"
    }
   ],
   "source": [
    "dravid_avg_scr"
   ]
  },
  {
   "cell_type": "code",
   "execution_count": 8,
   "id": "49dc8fbc",
   "metadata": {},
   "outputs": [],
   "source": [
    "sachin_median_scr=np.median(file[:,1])"
   ]
  },
  {
   "cell_type": "code",
   "execution_count": 9,
   "id": "702169dd",
   "metadata": {},
   "outputs": [
    {
     "data": {
      "text/plain": [
       "71.0"
      ]
     },
     "execution_count": 9,
     "metadata": {},
     "output_type": "execute_result"
    }
   ],
   "source": [
    "sachin_median_scr"
   ]
  },
  {
   "cell_type": "code",
   "execution_count": 10,
   "id": "019b43fc",
   "metadata": {},
   "outputs": [],
   "source": [
    "dravid_median_scr = np.median(file[:,2])"
   ]
  },
  {
   "cell_type": "code",
   "execution_count": 11,
   "id": "9c1ae4ca",
   "metadata": {},
   "outputs": [
    {
     "data": {
      "text/plain": [
       "74.0"
      ]
     },
     "execution_count": 11,
     "metadata": {},
     "output_type": "execute_result"
    }
   ],
   "source": [
    "dravid_median_scr"
   ]
  },
  {
   "cell_type": "code",
   "execution_count": 12,
   "id": "f2895d96",
   "metadata": {},
   "outputs": [
    {
     "name": "stdout",
     "output_type": "stream",
     "text": [
      "indiaMedian 288.0\n"
     ]
    }
   ],
   "source": [
    "print(\"indiaMedian\",np.median(file[:,3]))"
   ]
  },
  {
   "cell_type": "code",
   "execution_count": null,
   "id": "dff02376",
   "metadata": {},
   "outputs": [],
   "source": []
  }
 ],
 "metadata": {
  "kernelspec": {
   "display_name": "Python 3 (ipykernel)",
   "language": "python",
   "name": "python3"
  },
  "language_info": {
   "codemirror_mode": {
    "name": "ipython",
    "version": 3
   },
   "file_extension": ".py",
   "mimetype": "text/x-python",
   "name": "python",
   "nbconvert_exporter": "python",
   "pygments_lexer": "ipython3",
   "version": "3.10.5"
  }
 },
 "nbformat": 4,
 "nbformat_minor": 5
}
